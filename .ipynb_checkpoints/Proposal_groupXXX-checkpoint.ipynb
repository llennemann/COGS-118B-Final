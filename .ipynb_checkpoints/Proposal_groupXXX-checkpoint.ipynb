{
 "cells": [
  {
   "cell_type": "markdown",
   "metadata": {},
   "source": [
    "# COGS 118B - Project Proposal"
   ]
  },
  {
   "cell_type": "markdown",
   "metadata": {},
   "source": [
    "# Names\n",
    "- Sreetama Chowdhury\n",
    "- Lucy Lennemann\n",
    "- Nikki Rejai\n",
    "- Melvyn Tan"
   ]
  },
  {
   "cell_type": "markdown",
   "metadata": {},
   "source": [
    "# Abstract \n",
    "The goal of this project is to address the genre categorization problem in the realm of music, utilizing clustering techniques on the Spotify 1.2M+ Songs dataset. With over 100,000 songs released daily, our objective is to categorize songs into distinct genres based on their audio features, hypothesizing that songs within the same genre share similarities in variables like tempo and danceability. The dataset, comprising 24 variables including danceability, tempo, and acousticness, is sourced from the Spotify API. We plan to implement both K-means and Gaussian Mixture Models, comparing their performance using evaluation metrics such as Rand Index and Adjusted Rand Index. Data cleaning involves handling null values, potential one-hot encoding, and standardization. To enhance the user experience on Spotify, personalized recommendations and playlists aligned with individual preferences will be generated based on the identified genres. Success will be measured by the accuracy of the clustering models, evaluated through the Rand Index metrics, providing insights into the effectiveness of our approach in capturing meaningful patterns within the music dataset.\n"
   ]
  },
  {
   "cell_type": "markdown",
   "metadata": {},
   "source": [
    "# Background\n",
    "\n",
    "Fill in the background and discuss the kind of prior work that has gone on in this research area here. **Use inline citation** to specify which references support which statements.  You can do that through HTML footnotes (demonstrated here). I used to reccommend Markdown footnotes (google is your friend) because they are simpler but recently I have had some problems with them working for me whereas HTML ones always work so far. So use the method that works for you, but do use inline citations.\n",
    "\n",
    "Here is an example of inline citation. After government genocide in the 20th century, real birds were replaced with surveillance drones designed to look just like birds<a name=\"lorenz\"></a>[<sup>[1]</sup>](#lorenznote). Use a minimum of 2 or 3 citations, but we prefer more <a name=\"admonish\"></a>[<sup>[2]</sup>](#admonishnote). You need enough citations to fully explain and back up important facts. \n",
    "\n",
    "Remeber you are trying to explain why someone would want to answer your question or why your hypothesis is in the form that you've stated. "
   ]
  },
  {
   "cell_type": "markdown",
   "metadata": {},
   "source": [
    "# Problem Statement\n",
    "\n",
    "Clearly describe the problem that you are solving. Avoid ambiguous words. The problem described should be well defined and should have at least one ML-relevant potential solution. Additionally, describe the problem thoroughly such that it is clear that the problem is quantifiable (the problem can be expressed in mathematical or logical terms), measurable (the problem can be measured by some metric and clearly observed), and replicable (the problem can be reproduced and occurs more than once)."
   ]
  },
  {
   "cell_type": "markdown",
   "metadata": {},
   "source": [
    "# Data\n",
    "\n",
    "We will use the [Spotify 1.2M+ Songs](https://www.kaggle.com/datasets/rodolfofigueroa/spotify-12m-songs/data) dataset from Kaggle, created by Rodolfo Figueroa using the Spotify API. The dataset has over 1.2 million songs and 24 variables. Critical variables include danceability, tempo, acousticness, and energy. The variables danceability, acousticness, and energy have values from 0 to 1, where 0 is not at all. Tempo is measured in beats per minute. For data cleaning, we will need to check that there are no null values. We won’t have to standardize most of the data because most variables are measured on a scale of 0 to 1. "
   ]
  },
  {
   "cell_type": "markdown",
   "metadata": {},
   "source": [
    "# Proposed Solution\n",
    "\n",
    "In this section, clearly describe a solution to the problem. The solution should be applicable to the project domain and appropriate for the dataset(s) or input(s) given. Provide enough detail (e.g., algorithmic description and/or theoretical properties) to convince us that your solution is applicable. Why might your solution work? Make sure to describe how the solution will be tested.  \n",
    "\n",
    "If you know details already, describe how (e.g., library used, function calls) you plan to implement the solution in a way that is reproducible.\n",
    "\n",
    "If it is appropriate to the problem statement, describe a benchmark model<a name=\"sota\"></a>[<sup>[3]</sup>](#sotanote) against which your solution will be compared. "
   ]
  },
  {
   "cell_type": "markdown",
   "metadata": {},
   "source": [
    "# Evaluation Metrics\n",
    "\n",
    "Propose at least one evaluation metric that can be used to quantify the performance of both the benchmark model and the solution model. The evaluation metric(s) you propose should be appropriate given the context of the data, the problem statement, and the intended solution. Describe how the evaluation metric(s) are derived and provide an example of their mathematical representations (if applicable). Complex evaluation metrics should be clearly defined and quantifiable (can be expressed in mathematical or logical terms)."
   ]
  },
  {
   "cell_type": "markdown",
   "metadata": {},
   "source": [
    "# Ethics & Privacy"
   ]
  },
  {
   "cell_type": "markdown",
   "metadata": {},
   "source": [
    "In this section, we will discuss the ethics and data privacy that will be associated with our data science project. We will address and provide solutions to mitigate the key areas which include user consent and anonymity, transparency in data use and analysis techniques, compliance with data protection laws and data equality.\n",
    "\n",
    "In our project, we will ensure that the data has been collected with the users’ consent where the data is anonymized. Sensitive information such as names, user IDs, and other personal information that could distinguish the user will be removed. By doing this, we will have protected the users’ individual privacy from potential cyber attacks and misuse.  \n",
    "\n",
    "To foster transparency, we will be clear in the purpose of our data analysis as well as maintain a clear documentation of what the data is being used for as well as for what purposes. Likewise, the algorithms and clustering techniques that we employ will also be well documented so that it can be recreated in the future to ensure trust and transparency in our findings.\n",
    "\n",
    "Compliance with data protection laws is also an important aspect that we will address. We will ensure that the data is in compliance with data protection laws and also allow users the right to request their data be removed from the database. This will help to ensure our practices are in line with current legal standards and at the same time protecting user data.\n",
    "\n",
    "To address potential biases, we will thoroughly look through and analyze the data’s natural distribution. We will use graphical techniques to identify any imbalances which could lead to skewed results and unfair representations. Additionally, we can also make sure that the dataset includes a diverse range of music genres and artists to promote fairness and prevent skewed outcomes.\n",
    "\n",
    "Lastly, we will ensure that our results will not affect user behavior such as how it could contribute to increased screen time or usage addiction. To mitigate this, we will promote healthy usage such as incorporating usage limit reminders.\n"
   ]
  },
  {
   "cell_type": "markdown",
   "metadata": {},
   "source": [
    "# Team Expectations "
   ]
  },
  {
   "cell_type": "markdown",
   "metadata": {},
   "source": [
    "Put things here that cement how you will interact/communicate as a team, how you will handle conflict and difficulty, how you will handle making decisions and setting goals/schedule, how much work you expect from each other, how you will handle deadlines, etc...\n",
    "* *Everyone should contribute equally to the project either individually or in groups.*\n",
    "* *Everyone is expected to attend meetings, however in the event that a team member is unable to attend then a message or notification should be sent in advance to inform the other team members.*\n",
    "* *Everyone is expected to respond on Discord or other means of communication within 24 hours.*\n",
    "* *Everyone should remain respectful towards each other during the project and understand that mistakes will be made.*\n",
    "* *In the event where a team member is observed not to be pulling their weight, then it is acceptable for the other team members to respectfully acknowledge it and inform the TAs and Professor if needed.*"
   ]
  },
  {
   "cell_type": "markdown",
   "metadata": {},
   "source": [
    "# Project Timeline Proposal"
   ]
  },
  {
   "cell_type": "markdown",
   "metadata": {},
   "source": [
    "Replace this with something meaningful that is appropriate for your needs. It doesn't have to be something that fits this format.  It doesn't have to be set in stone... \"no battle plan survives contact with the enemy\". But you need a battle plan nonetheless, and you need to keep it updated so you understand what you are trying to accomplish, who's responsible for what, and what the expected due dates are for each item.\n",
    "\n",
    "| Meeting Date  | Meeting Time| Completed Before Meeting  | Discuss at Meeting |\n",
    "|---|---|---|---|\n",
    "| 2/15  |  3 PM |  Determine best form of communication; Setup Github repository  |  Meeting with the whole team to brainstorm project ideas; Divide work among group members; Discuss meeting time before Project Proposal due date | \n",
    "| 2/20  |  3 PM |  Complete assigned work | Discuss the dataset, finalize the problem statement, decide on how much data to analyze; Finalize Project Proposal and submit by the end of day; Split up the work for the next step (EDA); Decide next meeting time | \n",
    "| 2/27  | 3 PM  | Complete assigned work  | Discuss EDA results and present significant findings; Decide which clustering techniques to use; Split up the work and decide on next meeting time |\n",
    "| 3/5  | 3 PM  | Complete assigned work | Meet to discuss the results of the clustering techniques and then as a group decide on what other final unsupervised machine learning algorithms to use to answer the question; Decide on final meeting time |\n",
    "| 3/12  | 3 PM  | Complete assigned work | Finish and check the project for typos, grammatical issues, etc; Submit Final Project |"
   ]
  },
  {
   "cell_type": "markdown",
   "metadata": {},
   "source": [
    "# Footnotes\n",
    "<a name=\"lorenznote\"></a>1.[^](#lorenz): Lorenz, T. (9 Dec 2021) Birds Aren’t Real, or Are They? Inside a Gen Z Conspiracy Theory. *The New York Times*. https://www.nytimes.com/2021/12/09/technology/birds-arent-real-gen-z-misinformation.html<br> \n",
    "<a name=\"admonishnote\"></a>2.[^](#admonish): Also refs should be important to the background, not some randomly chosen vaguely related stuff. Include a web link if possible in refs as above.<br>\n",
    "<a name=\"sotanote\"></a>3.[^](#sota): Perhaps the current state of the art solution such as you see on [Papers with code](https://paperswithcode.com/sota). Or maybe not SOTA, but rather a standard textbook/Kaggle solution to this kind of problem\n"
   ]
  },
  {
   "cell_type": "code",
   "execution_count": null,
   "metadata": {},
   "outputs": [],
   "source": []
  }
 ],
 "metadata": {
  "kernelspec": {
   "display_name": "Python 3 (ipykernel)",
   "language": "python",
   "name": "python3"
  },
  "language_info": {
   "codemirror_mode": {
    "name": "ipython",
    "version": 3
   },
   "file_extension": ".py",
   "mimetype": "text/x-python",
   "name": "python",
   "nbconvert_exporter": "python",
   "pygments_lexer": "ipython3",
   "version": "3.9.7"
  }
 },
 "nbformat": 4,
 "nbformat_minor": 2
}
