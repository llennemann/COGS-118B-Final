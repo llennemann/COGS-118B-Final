{
 "cells": [
  {
   "cell_type": "markdown",
   "metadata": {},
   "source": [
    "# COGS 118B - Project Proposal"
   ]
  },
  {
   "cell_type": "markdown",
   "metadata": {},
   "source": [
    "# Names\n",
    "- Sreetama Chowdhury\n",
    "- Lucy Lennemann\n",
    "- Nikki Rejai\n",
    "- Melvyn Tan"
   ]
  },
  {
   "cell_type": "markdown",
   "metadata": {},
   "source": [
    "# Abstract \n",
    "The goal of this project is to address the genre categorization problem in the realm of music, utilizing clustering techniques on the Spotify 1.2M+ Songs dataset. With over 100,000 songs released daily, our objective is to categorize songs into distinct genres based on their audio features, hypothesizing that songs within the same genre share similarities in variables like tempo and danceability. The dataset, comprising 24 variables including danceability, tempo, and acousticness, is sourced from the Spotify API. We plan to implement both K-means and Gaussian Mixture Models, comparing their performance using evaluation metrics such as Rand Index and Adjusted Rand Index. Data cleaning involves handling null values, potential one-hot encoding, and standardization. To enhance the user experience on Spotify, personalized recommendations and playlists aligned with individual preferences will be generated based on the identified genres. Success will be measured by the accuracy of the clustering models, evaluated through the Rand Index metrics, providing insights into the effectiveness of our approach in capturing meaningful patterns within the music dataset.\n"
   ]
  },
  {
   "cell_type": "markdown",
   "metadata": {},
   "source": [
    "# Background\n",
    "\n",
    "With the ubiquitous influence of the internet on our daily lives, the wealth of available data continues to increase rapidly. This abundance of data has many benefits as organizations have the opportunity to use this data to optimize their user engagement by understanding user behavior and trends <a name=\"henke\"></a>[<sup>[1]</sup>](#henkenote). Spotify, a leading music streaming platform, has an expansive repository of music-related data, offering insights into popularity of songs and/or artists, users’ music consumption patterns, trends, and song characteristics. The platform hosts an extensive breadth of songs spanning various genres, artists, and musical styles,  prompting an intriguing question: how can we effectively define and categorize this diverse musical library? \n",
    "\n",
    "Given the sheer amount of songs on the platform, there is immense potential in classifying and organizing them into categories, such as musical genres. By classifying the songs on their platform, Spotify can enhance their user experience by providing personalized song recommendations, and playlists, which aligns with individual preferences <a name=\"zhangjiang\"></a>[<sup>[2]</sup>](#zhangjiangnote). Moreover, understanding different nuances and patterns within the dataset can offer valuable insights into user behavior, music trends, and emerging genres. \n",
    "\n",
    "Our research into classification techniques for large datasets led us to explore Gaussian Mixture Models (GMM) and K-means clustering as potential solutions. GMM is a probabilistic model that assumes that the data is generated from a mixture of several Gaussian distributions <a name=\"zhang\"></a>[<sup>[3]</sup>](#zhangnote). It is well-suited for clustering tasks where the underlying data distribution is complex and may contain overlapping clusters. Additionally, K-means is a centroid-based clustering algorithm that partitions the data into K clusters by iteratively updating the cluster centroids to minimize the within-cluster variance<a name=\"kodinariya\"></a>[<sup>[4]</sup>](#kodinariyanote). K-means clustering is a versatile and efficient algorithm that can be used for various clustering tasks, especially when the dataset is very large and the clusters are well-separated. \n",
    "\n",
    "In this project, we propose to use clustering techniques to group songs and determine song genres based on their audio features. We plan to employ both K-means and Gaussian Mixture Model (GMM) algorithms to explore the shape of the dataset and identify clusters representing different musical genres. By utilizing the scikit-learn library in Python, we aim to implement these models and evaluate their accuracy of classifying songs into meaningful genres. Our hypothesis is that clustering techniques, such as K-means and GMM, will be effective in identifying distinct clusters within the Spotify dataset that correspond to different musical genres. We anticipate that these models will provide valuable insights into the structure of the data and enable us to classify songs into genres with a high level of accuracy. Once we have classified the dataset into genres, our goal is to enhance the user experience on Spotify by providing personalized recommendations and curated playlists that cater to individual preferences and interests."
   ]
  },
  {
   "cell_type": "markdown",
   "metadata": {},
   "source": [
    "# Problem Statement\n",
    "\n",
    "Music has always been one of the most popular forms of entertainment, as it can invoke feelings of relaxation and motivation. Because of its popularity, there are more than 100,000 songs released every day which presents a genre categorization problem. In this project, we aim to use clustering techniques with the Spotify 1.2M+ Songs dataset to categorize songs into distinct genres based on their features. We hypothesize that songs in the same genre, such as pop, will have similar values for variables such as tempo and danceability. We will try both K-Means and Gaussian Mixture Models, using metrics such as rand score and adjusted rand score to compare their results. "
   ]
  },
  {
   "cell_type": "markdown",
   "metadata": {},
   "source": [
    "# Data\n",
    "\n",
    "We will use the Spotify 1.2M+ Songs dataset <a name=\"figueroa\"></a>[<sup>[5]</sup>](#figueroanote), created by Rodolfo Figueroa using the Spotify API. The dataset has over 1.2 million songs and 24 variables. Critical variables include:\n",
    "- Danceability: values from 0 to 1, with 0 indicating 0 danceability\n",
    "- Tempo: measured in beats per minute (bpm)\n",
    "- Acousticness: values from 0 to 1 \n",
    "- Energy: values from 0 to 1\n",
    "- Loudness: measured in decibels \n",
    "- Valence: values from 0 (extremely negative) to 1 (extremely positive)\n",
    "\n",
    "For data cleaning, we will need to check that there are no null values and decide if we should one-hot encode our data. For the variables that aren’t already on a scale of 0 to 1 such as tempo or loudness, we will consider standardizing them. When we build our model, we will consider whether or not to perform PCA to select the more relevant variables out of the 24 variables we have. \n"
   ]
  },
  {
   "cell_type": "markdown",
   "metadata": {},
   "source": [
    "# Proposed Solution\n",
    "\n",
    "We propose to use clustering techniques to group the songs and determine song genres based on our variables, such as tempo and valence. We plan to use the K-means and Gaussian Mixture Model (GMM) algorithms to explore patterns in the dataset, cluster the data, and determine whether these clusters accurately represent the genres in the dataset. As we don’t know whether the data has spherical shape or a different shape, we will try both clustering algorithms to see which model is more optimal. We will implement these models with the Python library scikit-learn. \n",
    "\n",
    "We may use PCA to reduce the number of variables. We will also perform model selection by performing the rand score and adjusted scores for both models to determine the best model. For each individual model, we will adjust the hyperparameters. For example, for K-means, we will use silhouette scores and plot the distortion measure to see which value of k gives the best results. We will then analyze the clustering results to evaluate the performance of each model in grouping songs into their correct genres and assess the interpretability of the clusters generated by each algorithm."
   ]
  },
  {
   "cell_type": "markdown",
   "metadata": {},
   "source": [
    "# Evaluation Metrics\n",
    "\n",
    "We propose using Rand Index and Adjusted Rand Index as evaluation metrics to assess the performance of our clustering models. These values measure the similarity between predicted and true clusterings, with Rand Index (RI) assessing overall agreement and Adjusted Rand Index (ARI) adjusting for chance agreement. Rand Index measures the similarity between two clusterings by considering the pairs of data points and counting pairs that are in the same and different clusters. The range is from 0 to 1, where 1 indicates perfect similarity as every data point is correctly classified.  Rand Index (RI) classifies each pair of data points as true \tpositives (TP), true negatives (TN), false positives (FP), and false negatives (FN) and computes the ratio of the sum of correct classifications, TP and TN, to the sum of all possible pairs: \n",
    "\n",
    "$$RI = \\frac{TP+TN}{TP + TN +FP + FN}$$\n",
    "\n",
    "The Adjusted Rand Index adjusts the Rand Index for chance, correcting for the expected similarity between two clusters. The range is from -1 to 1, where 1 indicates perfect agreement between two clusters, 0 indicates random agreement, and -1 indicates disagreement. It is calculated as the difference between the observed Rand Index (RI) and the expected Rand Index (E), normalized by the maximum possible deviation from the expected Rand Index.\n",
    "\n",
    "$$ARI=\\frac{RI-E}{max(RI)-E}$$\n",
    "\n",
    "By comparing the expected and observed rand index, the adjusted rand index describes the agreement between the clusters beyond what would be expected by chance alone. Thus, the difference between these two metrics is how they handle chance, in that Adjusted Rand score adjusts for the chance agreement expected from random clustering. By incorporating these metrics, we can assess the effectiveness of our models in capturing meaningful patterns in the data and providing reliable cluster assignments.\n"
   ]
  },
  {
   "cell_type": "markdown",
   "metadata": {},
   "source": [
    "# Ethics & Privacy"
   ]
  },
  {
   "cell_type": "markdown",
   "metadata": {},
   "source": [
    "In this section, we will discuss the ethics and data privacy that will be associated with our data science project. We will address and provide solutions to mitigate the key areas which include user consent and anonymity, transparency in data use and analysis techniques, compliance with data protection laws and data equality.\n",
    "\n",
    "In our project, we will ensure that the data has been collected with the users’ consent where the data is anonymized. Sensitive information such as names, user IDs, and other personal information that could distinguish the user will be removed. By doing this, we will have protected the users’ individual privacy from potential cyber attacks and misuse.  \n",
    "\n",
    "To foster transparency, we will be clear in the purpose of our data analysis as well as maintain a clear documentation of what the data is being used for as well as for what purposes. Likewise, the algorithms and clustering techniques that we employ will also be well documented so that it can be recreated in the future to ensure trust and transparency in our findings.\n",
    "\n",
    "Compliance with data protection laws is also an important aspect that we will address. We will ensure that the data is in compliance with data protection laws and also allow users the right to request their data be removed from the database. This will help to ensure our practices are in line with current legal standards and at the same time protecting user data.\n",
    "\n",
    "To address potential biases, we will thoroughly look through and analyze the data’s natural distribution. We will use graphical techniques to identify any imbalances which could lead to skewed results and unfair representations. Additionally, we can also make sure that the dataset includes a diverse range of music genres and artists to promote fairness and prevent skewed outcomes.\n",
    "\n",
    "Lastly, we will ensure that our results will not affect user behavior such as how it could contribute to increased screen time or usage addiction. To mitigate this, we will promote healthy usage such as incorporating usage limit reminders.\n"
   ]
  },
  {
   "cell_type": "markdown",
   "metadata": {},
   "source": [
    "# Team Expectations "
   ]
  },
  {
   "cell_type": "markdown",
   "metadata": {},
   "source": [
    "* *Everyone should contribute equally to the project either individually or in groups.*\n",
    "* *Everyone is expected to attend meetings, however in the event that a team member is unable to attend then a message or notification should be sent in advance to inform the other team members.*\n",
    "* *Everyone is expected to respond on Discord or other means of communication within 24 hours.*\n",
    "* *Everyone should remain respectful towards each other during the project and understand that mistakes will be made.*\n",
    "* *In the event where a team member is observed not to be pulling their weight, then it is acceptable for the other team members to respectfully acknowledge it and inform the TAs and Professor if needed.*"
   ]
  },
  {
   "cell_type": "markdown",
   "metadata": {},
   "source": [
    "# Project Timeline Proposal"
   ]
  },
  {
   "cell_type": "markdown",
   "metadata": {},
   "source": [
    "| Meeting Date  | Meeting Time| Completed Before Meeting  | Discuss at Meeting |\n",
    "|---|---|---|---|\n",
    "| 2/15  |  3 PM |  Determine best form of communication; Setup Github repository  |  Meeting with the whole team to brainstorm project ideas; Divide work among group members; Discuss meeting time before Project Proposal due date | \n",
    "| 2/20  |  3 PM |  Complete assigned work | Discuss the dataset, finalize the problem statement, decide on how much data to analyze; Finalize Project Proposal and submit by the end of day; Split up the work for the next step (EDA); Decide next meeting time | \n",
    "| 2/27  | 3 PM  | Complete assigned work  | Discuss EDA results and present significant findings; Decide which clustering techniques to use; Split up the work and decide on next meeting time |\n",
    "| 3/5  | 3 PM  | Complete assigned work | Meet to discuss the results of the clustering techniques and then as a group decide on what other final unsupervised machine learning algorithms to use to answer the question; Decide on final meeting time |\n",
    "| 3/12  | 3 PM  | Complete assigned work | Finish and check the project for typos, grammatical issues, etc; Submit Final Project |"
   ]
  },
  {
   "cell_type": "markdown",
   "metadata": {},
   "source": [
    "# Footnotes\n",
    "<a name=\"henkenote\"></a>1.[^](#henke): Henke, Nicolaus, et al. THE AGE OF ANALYTICS: COMPETING IN A DATA-DRIVEN WORLD, McKinsey Global Institute, Dec. 2016, [dln.jaipuria.ac.in:8080/jspui/bitstream/123456789/2898/1/MGI-Reinventing-Construction-Full-report.pdf.](dln.jaipuria.ac.in:8080/jspui/bitstream/123456789/2898/1/MGI-Reinventing-Construction-Full-report.pdf.)<br> \n",
    "<a name=\"zhangziangnote\"></a>2.[^](#zhangziang): Zhang, Ziang, and Jingbo Chang. “Clustering-Based Categorization of Music Users through Unsupervised Learning.” Economics & Management Information, 30 Dec. 2022, [doi.org/10.58195/emi.2022.1006](doi.org/10.58195/emi.2022.1006)<br>\n",
    "<a name=\"zhangnote\"></a>3.[^](#zhang): Zhang, Yi, et al. “Gaussian Mixture Model Clustering with Incomplete Data.” ACM Transactions on Multimedia Computing, Communications, and Applications, 1 Jan. 2021, [dl.acm.org/doi/fullHtml/10.1145/3408318](dl.acm.org/doi/fullHtml/10.1145/3408318).<br>\n",
    "<a name=\"kodinariyanote\"></a>4.[^](#kodinariya): Kodinariya, Trupti M, and Prashant R. Makwana. “Review on Determining Number of Cluster in K-Means Clustering.” International Journal of Advance Research in Computer Science and Management Studies, Nov. 2013, [www.researchgate.net/publication/313554124_Review_on_Determining_of_Cluster_in_K-means_Clustering](www.researchgate.net/publication/313554124_Review_on_Determining_of_Cluster_in_K-means_Clustering).<br>\n",
    "<a name=\"figueroanote\"></a>5.[^](#figueroa): Figueroa, Rodolpho. Spotify 1.2M+ Songs. (1). [https://www.kaggle.com/datasets/rodolfofigueroa/spotify-12m-songs/data](https://www.kaggle.com/datasets/rodolfofigueroa/spotify-12m-songs/data). \n",
    "\n"
   ]
  }
 ],
 "metadata": {
  "kernelspec": {
   "display_name": "Python 3 (ipykernel)",
   "language": "python",
   "name": "python3"
  },
  "language_info": {
   "codemirror_mode": {
    "name": "ipython",
    "version": 3
   },
   "file_extension": ".py",
   "mimetype": "text/x-python",
   "name": "python",
   "nbconvert_exporter": "python",
   "pygments_lexer": "ipython3",
   "version": "3.9.7"
  }
 },
 "nbformat": 4,
 "nbformat_minor": 2
}
